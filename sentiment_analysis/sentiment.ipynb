{
 "cells": [
  {
   "attachments": {},
   "cell_type": "markdown",
   "id": "dd6861f1",
   "metadata": {},
   "source": [
    "##### Read Dataset\n",
    "* **Target**: The polarity of the tweet (0 = negative, 2 = neutral, 4 = positive)\n",
    "* **IDs**: The ID of the tweet (e.g., 2087)\n",
    "* **Date**: The date of the tweet (e.g., Sat May 16 23:58:44 UTC 2009)\n",
    "* **Flag**: The query (e.g., lyx). If there is no query, then this value is NO_QUERY.\n",
    "* **User**: The user that tweeted (e.g., robotickilldozr)\n",
    "* **Text**: The text of the tweet (e.g., \"Lyx is cool\")"
   ]
  },
  {
   "cell_type": "code",
   "execution_count": 1,
   "id": "c235e793",
   "metadata": {},
   "outputs": [
    {
     "data": {
      "text/html": [
       "<div>\n",
       "<style scoped>\n",
       "    .dataframe tbody tr th:only-of-type {\n",
       "        vertical-align: middle;\n",
       "    }\n",
       "\n",
       "    .dataframe tbody tr th {\n",
       "        vertical-align: top;\n",
       "    }\n",
       "\n",
       "    .dataframe thead th {\n",
       "        text-align: right;\n",
       "    }\n",
       "</style>\n",
       "<table border=\"1\" class=\"dataframe\">\n",
       "  <thead>\n",
       "    <tr style=\"text-align: right;\">\n",
       "      <th></th>\n",
       "      <th>sentiment</th>\n",
       "      <th>id</th>\n",
       "      <th>date</th>\n",
       "      <th>query</th>\n",
       "      <th>user</th>\n",
       "      <th>text</th>\n",
       "    </tr>\n",
       "  </thead>\n",
       "  <tbody>\n",
       "    <tr>\n",
       "      <th>0</th>\n",
       "      <td>0</td>\n",
       "      <td>1467810369</td>\n",
       "      <td>Mon Apr 06 22:19:45 PDT 2009</td>\n",
       "      <td>NO_QUERY</td>\n",
       "      <td>_TheSpecialOne_</td>\n",
       "      <td>@switchfoot http://twitpic.com/2y1zl - Awww, t...</td>\n",
       "    </tr>\n",
       "    <tr>\n",
       "      <th>1</th>\n",
       "      <td>0</td>\n",
       "      <td>1467810672</td>\n",
       "      <td>Mon Apr 06 22:19:49 PDT 2009</td>\n",
       "      <td>NO_QUERY</td>\n",
       "      <td>scotthamilton</td>\n",
       "      <td>is upset that he can't update his Facebook by ...</td>\n",
       "    </tr>\n",
       "    <tr>\n",
       "      <th>2</th>\n",
       "      <td>0</td>\n",
       "      <td>1467810917</td>\n",
       "      <td>Mon Apr 06 22:19:53 PDT 2009</td>\n",
       "      <td>NO_QUERY</td>\n",
       "      <td>mattycus</td>\n",
       "      <td>@Kenichan I dived many times for the ball. Man...</td>\n",
       "    </tr>\n",
       "    <tr>\n",
       "      <th>3</th>\n",
       "      <td>0</td>\n",
       "      <td>1467811184</td>\n",
       "      <td>Mon Apr 06 22:19:57 PDT 2009</td>\n",
       "      <td>NO_QUERY</td>\n",
       "      <td>ElleCTF</td>\n",
       "      <td>my whole body feels itchy and like its on fire</td>\n",
       "    </tr>\n",
       "    <tr>\n",
       "      <th>4</th>\n",
       "      <td>0</td>\n",
       "      <td>1467811193</td>\n",
       "      <td>Mon Apr 06 22:19:57 PDT 2009</td>\n",
       "      <td>NO_QUERY</td>\n",
       "      <td>Karoli</td>\n",
       "      <td>@nationwideclass no, it's not behaving at all....</td>\n",
       "    </tr>\n",
       "  </tbody>\n",
       "</table>\n",
       "</div>"
      ],
      "text/plain": [
       "   sentiment          id                          date     query  \\\n",
       "0          0  1467810369  Mon Apr 06 22:19:45 PDT 2009  NO_QUERY   \n",
       "1          0  1467810672  Mon Apr 06 22:19:49 PDT 2009  NO_QUERY   \n",
       "2          0  1467810917  Mon Apr 06 22:19:53 PDT 2009  NO_QUERY   \n",
       "3          0  1467811184  Mon Apr 06 22:19:57 PDT 2009  NO_QUERY   \n",
       "4          0  1467811193  Mon Apr 06 22:19:57 PDT 2009  NO_QUERY   \n",
       "\n",
       "              user                                               text  \n",
       "0  _TheSpecialOne_  @switchfoot http://twitpic.com/2y1zl - Awww, t...  \n",
       "1    scotthamilton  is upset that he can't update his Facebook by ...  \n",
       "2         mattycus  @Kenichan I dived many times for the ball. Man...  \n",
       "3          ElleCTF    my whole body feels itchy and like its on fire   \n",
       "4           Karoli  @nationwideclass no, it's not behaving at all....  "
      ]
     },
     "execution_count": 1,
     "metadata": {},
     "output_type": "execute_result"
    }
   ],
   "source": [
    "import pandas as pd\n",
    "\n",
    "# Load the dataset\n",
    "df = pd.read_csv('resources/data.csv', encoding='ISO-8859-1', header=None)\n",
    "\n",
    "# Assign column names \n",
    "df.columns = ['sentiment', 'id', 'date', 'query', 'user', 'text']\n",
    "\n",
    "# Display the first few rows of the dataframe\n",
    "df.head()"
   ]
  },
  {
   "attachments": {},
   "cell_type": "markdown",
   "id": "f93ee0b6",
   "metadata": {},
   "source": [
    "##### Clean Dataset\n",
    "\n",
    "* Remove unnecessary columns\n",
    "* Remove rows with missing values\n",
    "* Clean the text\n",
    "* Map the target values"
   ]
  },
  {
   "cell_type": "code",
   "execution_count": 2,
   "id": "e7223935",
   "metadata": {},
   "outputs": [
    {
     "name": "stderr",
     "output_type": "stream",
     "text": [
      "[nltk_data] Downloading package stopwords to\n",
      "[nltk_data]     C:\\Users\\lukal\\AppData\\Roaming\\nltk_data...\n",
      "[nltk_data]   Package stopwords is already up-to-date!\n"
     ]
    },
    {
     "name": "stdout",
     "output_type": "stream",
     "text": [
      "unique sentiments: [0 2]\n",
      "shape after cleaning: (1600000, 2)\n"
     ]
    }
   ],
   "source": [
    "import re\n",
    "import nltk\n",
    "from nltk.corpus import stopwords\n",
    "from nltk.stem.porter import PorterStemmer\n",
    "\n",
    "# Download stopwords if not already downloaded\n",
    "nltk.download('stopwords')\n",
    "\n",
    "def clean_text(text):\n",
    "    # Convert text to lowercase\n",
    "    text = text.lower()\n",
    "    \n",
    "    # Remove special characters\n",
    "    text = re.sub('[^a-z]', ' ', text)\n",
    "    \n",
    "    # Remove stopwords and stem the words\n",
    "    stemmer = PorterStemmer()\n",
    "    stop_words = set(stopwords.words('english'))\n",
    "    words = text.split()\n",
    "    words = [stemmer.stem(word) for word in words if word not in stop_words]\n",
    "    \n",
    "    # Join the words back into a single string\n",
    "    text = ' '.join(words)\n",
    "    \n",
    "    return text\n",
    "\n",
    "\n",
    "# Remove unnecessary columns\n",
    "df.drop(['id', 'date', 'query', 'user'], axis=1, inplace=True)\n",
    "\n",
    "# Remove rows with missing values\n",
    "df.dropna(inplace=True)\n",
    "\n",
    "# Clean the text\n",
    "df['text'] = df['text'].apply(clean_text)\n",
    "\n",
    "# Map the target values to 0 (negative), 1 (neutral), and 2 (positive)\n",
    "df['sentiment'] = df['sentiment'].map({0: 0, 2: 1, 4: 2})\n",
    "\n",
    "print(f'unique sentiments: {df[\"sentiment\"].unique()}')\n",
    "print(f'shape after cleaning: {df.shape}')"
   ]
  },
  {
   "attachments": {},
   "cell_type": "markdown",
   "id": "233bb5c5",
   "metadata": {},
   "source": [
    "##### Visualize distribution"
   ]
  },
  {
   "cell_type": "code",
   "execution_count": 3,
   "id": "1aa285bf",
   "metadata": {},
   "outputs": [
    {
     "data": {
      "image/png": "[encoded data removed]",
      "text/plain": [
       "<Figure size 640x480 with 1 Axes>"
      ]
     },
     "metadata": {},
     "output_type": "display_data"
    }
   ],
   "source": [
    "# visualize the distribution of sentiments\n",
    "\n",
    "import matplotlib.pyplot as plt\n",
    "import seaborn as sns\n",
    "\n",
    "# Set the style of seaborn for our plot\n",
    "sns.set(style=\"darkgrid\")\n",
    "\n",
    "# Create a countplot\n",
    "sns.countplot(x='sentiment', data=df)\n",
    "\n",
    "# Give the plot a title and show it\n",
    "plt.title('Distribution of Sentiments')\n",
    "plt.show()"
   ]
  },
  {
   "attachments": {},
   "cell_type": "markdown",
   "id": "088b1f94",
   "metadata": {},
   "source": [
    "##### Find most common words for each sentiment"
   ]
  },
  {
   "cell_type": "code",
   "execution_count": 4,
   "id": "3b61373c",
   "metadata": {},
   "outputs": [
    {
     "name": "stderr",
     "output_type": "stream",
     "text": [
      "[nltk_data] Downloading package punkt to\n",
      "[nltk_data]     C:\\Users\\lukal\\AppData\\Roaming\\nltk_data...\n",
      "[nltk_data]   Package punkt is already up-to-date!\n"
     ]
    },
    {
     "name": "stdout",
     "output_type": "stream",
     "text": [
      "Negative: [('go', 79380), ('get', 61591), ('work', 59062), ('day', 52276), ('miss', 47944), ('like', 43272), ('want', 40287), ('got', 38930), ('today', 38373), ('feel', 36918)]\n",
      "Neutral: []\n",
      "Positive: [('good', 62892), ('love', 61130), ('go', 59425), ('day', 57135), ('thank', 51092), ('get', 49279), ('http', 47263), ('quot', 47001), ('like', 40578), ('lol', 36263)]\n"
     ]
    }
   ],
   "source": [
    "from nltk.tokenize import word_tokenize\n",
    "from collections import Counter\n",
    "nltk.download('punkt')\n",
    "\n",
    "# Split the DataFrame by sentiment\n",
    "df_negative = df[df['sentiment'] == 0]\n",
    "df_neutral = df[df['sentiment'] == 1]\n",
    "df_positive = df[df['sentiment'] == 2]\n",
    "\n",
    "# Tokenize the tweets\n",
    "tokens_negative = word_tokenize(' '.join(df_negative['text']))\n",
    "tokens_neutral = word_tokenize(' '.join(df_neutral['text']))\n",
    "tokens_positive = word_tokenize(' '.join(df_positive['text']))\n",
    "\n",
    "# Count the words\n",
    "counter_negative = Counter(tokens_negative)\n",
    "counter_neutral = Counter(tokens_neutral)\n",
    "counter_positive = Counter(tokens_positive)\n",
    "\n",
    "# Find the most common words\n",
    "common_words_negative = counter_negative.most_common(10)\n",
    "common_words_neutral = counter_neutral.most_common(10)\n",
    "common_words_positive = counter_positive.most_common(10)\n",
    "\n",
    "# Print the most common words for each sentiment\n",
    "print('Negative:', common_words_negative)\n",
    "print('Neutral:', common_words_neutral)\n",
    "print('Positive:', common_words_positive)\n"
   ]
  },
  {
   "attachments": {},
   "cell_type": "markdown",
   "id": "d8db7721",
   "metadata": {},
   "source": [
    "##### Converting text into numerical representation"
   ]
  },
  {
   "cell_type": "code",
   "execution_count": 8,
   "id": "496f3ead",
   "metadata": {},
   "outputs": [],
   "source": [
    "from sklearn.feature_extraction.text import TfidfVectorizer\n",
    "\n",
    "# Initialize a TfidfVectorizer object\n",
    "vectorizer = TfidfVectorizer()\n",
    "\n",
    "# Fit and transform the 'text' column\n",
    "tfidf_matrix = vectorizer.fit_transform(df['text'])\n",
    "\n",
    "# tfidf_matrix is a sparse matrix where each row corresponds to a document in the original DataFrame,\n",
    "# and the value in each cell is the TF-IDF score of a particular word in a particular document.\n",
    "# Dense matrix required too much memory"
   ]
  },
  {
   "attachments": {},
   "cell_type": "markdown",
   "id": "afc853c8",
   "metadata": {},
   "source": [
    "##### Logistic regression model"
   ]
  },
  {
   "cell_type": "code",
   "execution_count": 10,
   "id": "fa0be23c",
   "metadata": {},
   "outputs": [
    {
     "name": "stderr",
     "output_type": "stream",
     "text": [
      "c:\\Users\\lukal\\AppData\\Local\\Programs\\Python\\Python310\\lib\\site-packages\\sklearn\\linear_model\\_logistic.py:458: ConvergenceWarning: lbfgs failed to converge (status=1):\n",
      "STOP: TOTAL NO. of ITERATIONS REACHED LIMIT.\n",
      "\n",
      "Increase the number of iterations (max_iter) or scale the data as shown in:\n",
      "    https://scikit-learn.org/stable/modules/preprocessing.html\n",
      "Please also refer to the documentation for alternative solver options:\n",
      "    https://scikit-learn.org/stable/modules/linear_model.html#logistic-regression\n",
      "  n_iter_i = _check_optimize_result(\n"
     ]
    },
    {
     "data": {
      "text/plain": [
       "'              precision    recall  f1-score   support\\n\\n           0       0.79      0.75      0.77    159494\\n           2       0.77      0.80      0.78    160506\\n\\n    accuracy                           0.78    320000\\n   macro avg       0.78      0.78      0.78    320000\\nweighted avg       0.78      0.78      0.78    320000\\n'"
      ]
     },
     "execution_count": 10,
     "metadata": {},
     "output_type": "execute_result"
    }
   ],
   "source": [
    "from sklearn.model_selection import train_test_split\n",
    "from sklearn.linear_model import LogisticRegression\n",
    "from sklearn.metrics import classification_report\n",
    "\n",
    "X = tfidf_matrix\n",
    "y = df['sentiment']\n",
    "\n",
    "# Split the data into training and test sets\n",
    "X_train, X_test, y_train, y_test = train_test_split(X, y, test_size=0.2, random_state=42)\n",
    "\n",
    "# Train the model\n",
    "model = LogisticRegression()\n",
    "model.fit(X_train, y_train)\n",
    "\n",
    "# Evaluate the model\n",
    "y_pred = model.predict(X_test)\n",
    "\n",
    "classification_report(y_test, y_pred)\n"
   ]
  },
  {
   "attachments": {},
   "cell_type": "markdown",
   "id": "df36e5d3",
   "metadata": {},
   "source": [
    "### **Result interpretation**\n",
    "\n",
    "Based on the classification report, our model has an accuracy of 78%. This means that it correctly predicts the sentiment of a tweet 78% of the time, which indicates a reasonably good performance.\n",
    "\n",
    "The precision, recall, and F1-score for both classes (0 and 2) are also quite similar and close to the accuracy. This suggests that the model performs similarly well on both negative and positive tweets.\n",
    "\n",
    "However, it's important to note that the model did not fully converge during training. This means that the results could potentially be improved by increasing the number of iterations or scaling the data.\n",
    "\n",
    "### **Sentiment distribution**\n",
    "\n",
    "The 'support' values in the classification report indicate the number of instances of each class in the test set. In this case, there are slightly more instances of class 2 (positive) than class 0 (negative). This suggests that positive sentiments are slightly more common in the dataset.\n",
    "\n",
    "### **Predicting sentiment** \n",
    "\n",
    "The model's accuracy of 78% suggests that it's reasonably possible to predict sentiment based on a tweet's text. However, the performance could potentially be improved with further model tuning. \n",
    "\n",
    "### **Indicators of sentiment**\n",
    "\n",
    "The TF-IDF vectorizer that we used to preprocess the text assigns higher values to words that are more important for distinguishing between documents. Therefore, words with high TF-IDF scores can be considered strong indicators of sentiment.\n",
    "\n",
    "From the most common words in each sentiment category, we can observe some patterns:\n",
    "\n",
    "* Negative Sentiment: Words like 'go', 'get', 'work', 'miss', and 'feel' are common in negative tweets. This suggests that tweets expressing negative sentiment often involve actions or emotions that are perceived negatively.\n",
    "\n",
    "* Positive Sentiment: Words like 'good', 'love', 'thank', and 'lol' are common in positive tweets. This suggests that tweets expressing positive sentiment often involve positive emotions or reactions.\n",
    "\n",
    "It's important to note that the presence of a particular word does not guarantee a specific sentiment. The context in which the word is used also plays a crucial role. However, these common words can give us a general idea of the language patterns associated with each sentiment.\n",
    "\n"
   ]
  }
 ],
 "metadata": {
  "kernelspec": {
   "display_name": "Python 3 (ipykernel)",
   "language": "python",
   "name": "python3"
  },
  "language_info": {
   "codemirror_mode": {
    "name": "ipython",
    "version": 3
   },
   "file_extension": ".py",
   "mimetype": "text/x-python",
   "name": "python",
   "nbconvert_exporter": "python",
   "pygments_lexer": "ipython3",
   "version": "3.10.2"
  }
 },
 "nbformat": 4,
 "nbformat_minor": 5
}
